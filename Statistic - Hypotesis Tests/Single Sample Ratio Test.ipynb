{
 "cells": [
  {
   "cell_type": "markdown",
   "id": "ecd61ca4",
   "metadata": {},
   "source": [
    "### Tek Orneklem Oran Testi"
   ]
  },
  {
   "cell_type": "markdown",
   "id": "ba1fb15d",
   "metadata": {},
   "source": [
    "Orneklem kullanılarak ana kitleye ilişkin orantısal bir çıkarım yapmak istersek kullanırız\n",
    "\n",
    "    Varsayımlar : n > 30  \n",
    "    \n",
    "    Örnek uygulaması:Bir mecrada reklam veriliyor ve reklam veren donusum oraninin 0.125 oldugunu iddia ediyor.\n",
    "    Bizse elimizdeki verilere gore bunun yanlis olabileceginden supheleniyoruz ve bir orneklem secip bunu test \n",
    "    etmek istiyoruz bu donusum orani goruntuleme / tiklama oranini ifade ediyor."
   ]
  },
  {
   "cell_type": "markdown",
   "id": "85373bb6",
   "metadata": {},
   "source": [
    "    1.Adım : hipotezleri belirlemek\n",
    "             μ = 0.125\n",
    "             μ ≠ 0.125"
   ]
  },
  {
   "cell_type": "markdown",
   "id": "2b0f4f27",
   "metadata": {},
   "source": [
    "    2.Adım : Varsayım kontrolü -> Varsayımlar sağlanıyor."
   ]
  },
  {
   "cell_type": "code",
   "execution_count": 1,
   "id": "21cfb727",
   "metadata": {},
   "outputs": [],
   "source": [
    "from statsmodels.stats.proportion import proportions_ztest"
   ]
  },
  {
   "cell_type": "code",
   "execution_count": 2,
   "id": "7ea9f11c",
   "metadata": {},
   "outputs": [],
   "source": [
    "count = 40 #yukleme \n",
    "nobs = 500 #gosterme\n",
    "value = 0.125 #bekledigimiz deger\n",
    "#Bunlar orneklemimizdeki betimlemeler"
   ]
  },
  {
   "cell_type": "code",
   "execution_count": 3,
   "id": "1bda6726",
   "metadata": {},
   "outputs": [
    {
     "data": {
      "text/plain": [
       "(-3.7090151628513017, 0.0002080669689845979)"
      ]
     },
     "execution_count": 3,
     "metadata": {},
     "output_type": "execute_result"
    }
   ],
   "source": [
    "proportions_ztest(count,nobs,value)"
   ]
  },
  {
   "cell_type": "markdown",
   "id": "0cdb2524",
   "metadata": {},
   "source": [
    "p value kucuk oldugundan h0 reddedilir yani\n",
    "oranimiz 0.125 degildir.<b> Reklam sirketinin vaadleri tekrardan degerlendirilmeli yalan olabilir."
   ]
  }
 ],
 "metadata": {
  "kernelspec": {
   "display_name": "Python 3 (ipykernel)",
   "language": "python",
   "name": "python3"
  },
  "language_info": {
   "codemirror_mode": {
    "name": "ipython",
    "version": 3
   },
   "file_extension": ".py",
   "mimetype": "text/x-python",
   "name": "python",
   "nbconvert_exporter": "python",
   "pygments_lexer": "ipython3",
   "version": "3.10.10"
  }
 },
 "nbformat": 4,
 "nbformat_minor": 5
}
