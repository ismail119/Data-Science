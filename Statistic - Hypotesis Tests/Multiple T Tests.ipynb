{
 "cells": [
  {
   "cell_type": "markdown",
   "id": "488fbae3",
   "metadata": {},
   "source": [
    "### Çoklu Test"
   ]
  },
  {
   "cell_type": "markdown",
   "id": "f7e77ba1",
   "metadata": {},
   "source": [
    "Birden fazla grubu teste sokmak istersek bu testi kullanırız.\n",
    "\n",
    "    1-Varsayımlar: Normal dağılım, Varyans Homojenliği\n",
    "    2-Örnek Uygulama: İş yerinin web sitesinde 3 ayrı deneme yapılıyor. Birinci site Normal\n",
    "        ikinci site yönlendirici, ilgi çekici.Hangisinin daha fazla kullanıcıyı tutma süreleri karşılaştırılmak\n",
    "        isteniyor."
   ]
  },
  {
   "cell_type": "code",
   "execution_count": 2,
   "id": "9ac26f3e",
   "metadata": {},
   "outputs": [],
   "source": [
    "import numpy as np,seaborn as sns, pandas as pd"
   ]
  },
  {
   "cell_type": "code",
   "execution_count": 3,
   "id": "fadf2f93",
   "metadata": {},
   "outputs": [
    {
     "data": {
      "text/html": [
       "<div>\n",
       "<style scoped>\n",
       "    .dataframe tbody tr th:only-of-type {\n",
       "        vertical-align: middle;\n",
       "    }\n",
       "\n",
       "    .dataframe tbody tr th {\n",
       "        vertical-align: top;\n",
       "    }\n",
       "\n",
       "    .dataframe thead th {\n",
       "        text-align: right;\n",
       "    }\n",
       "</style>\n",
       "<table border=\"1\" class=\"dataframe\">\n",
       "  <thead>\n",
       "    <tr style=\"text-align: right;\">\n",
       "      <th></th>\n",
       "      <th>GRUP_A</th>\n",
       "      <th>GRUP_B</th>\n",
       "      <th>GRUP_C</th>\n",
       "    </tr>\n",
       "  </thead>\n",
       "  <tbody>\n",
       "    <tr>\n",
       "      <th>0</th>\n",
       "      <td>28</td>\n",
       "      <td>31</td>\n",
       "      <td>40</td>\n",
       "    </tr>\n",
       "    <tr>\n",
       "      <th>1</th>\n",
       "      <td>33</td>\n",
       "      <td>32</td>\n",
       "      <td>33</td>\n",
       "    </tr>\n",
       "    <tr>\n",
       "      <th>2</th>\n",
       "      <td>30</td>\n",
       "      <td>30</td>\n",
       "      <td>38</td>\n",
       "    </tr>\n",
       "    <tr>\n",
       "      <th>3</th>\n",
       "      <td>29</td>\n",
       "      <td>30</td>\n",
       "      <td>41</td>\n",
       "    </tr>\n",
       "    <tr>\n",
       "      <th>4</th>\n",
       "      <td>28</td>\n",
       "      <td>33</td>\n",
       "      <td>42</td>\n",
       "    </tr>\n",
       "  </tbody>\n",
       "</table>\n",
       "</div>"
      ],
      "text/plain": [
       "   GRUP_A  GRUP_B  GRUP_C\n",
       "0      28      31      40\n",
       "1      33      32      33\n",
       "2      30      30      38\n",
       "3      29      30      41\n",
       "4      28      33      42"
      ]
     },
     "execution_count": 3,
     "metadata": {},
     "output_type": "execute_result"
    }
   ],
   "source": [
    "A = pd.DataFrame([28,33,30,29,28,29,27,31,30,32,28,33,25,29,27,31,31,30,31,34,30,32,31,34,28,32,31,28,33,29])\n",
    "\n",
    "B = pd.DataFrame([31,32,30,30,33,32,34,27,36,30,31,30,38,29,30,34,34,31,35,35,33,30,28,29,26,37,31,28,34,33])\n",
    "\n",
    "C = pd.DataFrame([40,33,38,41,42,43,38,35,39,39,36,34,35,40,38,36,39,36,33,35,38,35,40,40,39,38,38,43,40,42])\n",
    "\n",
    "dfs = [A, B, C]\n",
    "\n",
    "ABC = pd.concat(dfs, axis = 1)\n",
    "ABC.columns = [\"GRUP_A\",\"GRUP_B\",\"GRUP_C\"]\n",
    "ABC.head()"
   ]
  },
  {
   "cell_type": "markdown",
   "id": "3a887a6f",
   "metadata": {},
   "source": [
    "### Normallik testi"
   ]
  },
  {
   "cell_type": "code",
   "execution_count": 18,
   "id": "b3009354",
   "metadata": {},
   "outputs": [
    {
     "data": {
      "text/plain": [
       "<AxesSubplot: ylabel='Count'>"
      ]
     },
     "execution_count": 18,
     "metadata": {},
     "output_type": "execute_result"
    },
    {
     "data": {
      "image/png": "[encoded data removed]",
      "text/plain": [
       "<Figure size 640x480 with 1 Axes>"
      ]
     },
     "metadata": {},
     "output_type": "display_data"
    }
   ],
   "source": [
    "#Histogram\n",
    "sns.histplot(data = C,bins=8)"
   ]
  },
  {
   "cell_type": "code",
   "execution_count": 24,
   "id": "4d114524",
   "metadata": {},
   "outputs": [
    {
     "data": {
      "text/plain": [
       "[0.5321670174598694, 0.7979751229286194, 0.273820161819458]"
      ]
     },
     "execution_count": 24,
     "metadata": {},
     "output_type": "execute_result"
    }
   ],
   "source": [
    "#Shapiro-wiks\n",
    "from scipy.stats import shapiro\n",
    "[shapiro(A)[1],shapiro(B)[1],shapiro(C)[1]]"
   ]
  },
  {
   "cell_type": "markdown",
   "id": "04f98e45",
   "metadata": {},
   "source": [
    "<b>Normallik sağlandı"
   ]
  },
  {
   "cell_type": "code",
   "execution_count": 27,
   "id": "c0880488",
   "metadata": {},
   "outputs": [
    {
     "data": {
      "text/plain": [
       "LeveneResult(statistic=1.0267403645055275, pvalue=0.36247110117417064)"
      ]
     },
     "execution_count": 27,
     "metadata": {},
     "output_type": "execute_result"
    }
   ],
   "source": [
    "import scipy.stats as stats\n",
    "stats.levene(ABC[\"GRUP_A\"],ABC[\"GRUP_B\"],ABC[\"GRUP_C\"])"
   ]
  },
  {
   "cell_type": "markdown",
   "id": "9f063ec6",
   "metadata": {},
   "source": [
    "<b>Homojenlik varsayimida saglandi dolayisiyla hipotez testine gecebiliriz.\n",
    "   "
   ]
  },
  {
   "cell_type": "markdown",
   "id": "d0d13bd5",
   "metadata": {},
   "source": [
    "## Hipotez Testi"
   ]
  },
  {
   "cell_type": "code",
   "execution_count": 31,
   "id": "83ed8b84",
   "metadata": {},
   "outputs": [
    {
     "data": {
      "text/plain": [
       "F_onewayResult(statistic=74.69278140730431, pvalue=1.3079050746811477e-19)"
      ]
     },
     "execution_count": 31,
     "metadata": {},
     "output_type": "execute_result"
    }
   ],
   "source": [
    "from scipy.stats import f_oneway\n",
    "f_oneway(ABC[\"GRUP_A\"],ABC[\"GRUP_B\"],ABC[\"GRUP_C\"])"
   ]
  },
  {
   "cell_type": "markdown",
   "id": "cadd334a",
   "metadata": {},
   "source": [
    "P value degeri oldukca kucuk oldugundan h0 hipotezini reddedemiyoruz\n",
    "Dolayisiyla siteler arasinda oldukca anlamli bir fark bilimsel olarak %95 olasikla vardir ve diger degerlerede bakarak yorumlayabiliriz ki:"
   ]
  },
  {
   "cell_type": "code",
   "execution_count": 32,
   "id": "42e94632",
   "metadata": {},
   "outputs": [
    {
     "data": {
      "text/plain": [
       "<AxesSubplot: >"
      ]
     },
     "execution_count": 32,
     "metadata": {},
     "output_type": "execute_result"
    },
    {
     "data": {
      "image/png": "[encoded data removed]",
      "text/plain": [
       "<Figure size 640x480 with 1 Axes>"
      ]
     },
     "metadata": {},
     "output_type": "display_data"
    }
   ],
   "source": [
    "sns.boxplot(data = ABC)"
   ]
  },
  {
   "cell_type": "markdown",
   "id": "f7c90167",
   "metadata": {},
   "source": [
    "Bu durumda C sitesi digerlerine gore daha uzun zaman kullaniciyi sitede tutabiliyor.\n",
    "Bu sirasiyla B ve A olarak devam eder."
   ]
  },
  {
   "cell_type": "markdown",
   "id": "a193aa44",
   "metadata": {},
   "source": [
    "## Varsayımlar sağlanmasaydı !!"
   ]
  },
  {
   "cell_type": "code",
   "execution_count": 33,
   "id": "8769107c",
   "metadata": {},
   "outputs": [],
   "source": [
    "from scipy.stats import kruskal"
   ]
  },
  {
   "cell_type": "code",
   "execution_count": 35,
   "id": "40498891",
   "metadata": {},
   "outputs": [
    {
     "data": {
      "text/plain": [
       "KruskalResult(statistic=54.19819735523783, pvalue=1.7022015426175926e-12)"
      ]
     },
     "execution_count": 35,
     "metadata": {},
     "output_type": "execute_result"
    }
   ],
   "source": [
    "kruskal(ABC[\"GRUP_A\"],ABC[\"GRUP_B\"],ABC[\"GRUP_C\"])"
   ]
  },
  {
   "cell_type": "markdown",
   "id": "cc94bedf",
   "metadata": {},
   "source": [
    "P value degeri tekrar kucuk cikti bu durumda ayni sonuclari kabulleniyor olacaktik"
   ]
  },
  {
   "cell_type": "code",
   "execution_count": null,
   "id": "36d6e5e9",
   "metadata": {},
   "outputs": [],
   "source": []
  }
 ],
 "metadata": {
  "kernelspec": {
   "display_name": "Python 3 (ipykernel)",
   "language": "python",
   "name": "python3"
  },
  "language_info": {
   "codemirror_mode": {
    "name": "ipython",
    "version": 3
   },
   "file_extension": ".py",
   "mimetype": "text/x-python",
   "name": "python",
   "nbconvert_exporter": "python",
   "pygments_lexer": "ipython3",
   "version": "3.10.10"
  }
 },
 "nbformat": 4,
 "nbformat_minor": 5
}
